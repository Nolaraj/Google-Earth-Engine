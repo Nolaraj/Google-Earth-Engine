{
 "cells": [
  {
   "cell_type": "code",
   "execution_count": 1,
   "id": "5de50c99",
   "metadata": {},
   "outputs": [],
   "source": [
    "import ee\n",
    "import geemap\n",
    "import logging\n",
    "import multiprocessing\n",
    "import os\n",
    "import requests\n",
    "import shutil\n",
    "from retry import retry"
   ]
  },
  {
   "cell_type": "code",
   "execution_count": 2,
   "id": "710867f6",
   "metadata": {
    "scrolled": false
   },
   "outputs": [
    {
     "data": {
      "text/html": [
       "<p>To authorize access needed by Earth Engine, open the following\n",
       "        URL in a web browser and follow the instructions:</p>\n",
       "        <p><a href=https://code.earthengine.google.com/client-auth?scopes=https%3A//www.googleapis.com/auth/earthengine%20https%3A//www.googleapis.com/auth/devstorage.full_control&request_id=zoIB2YOEuwWWcrnbn9-yrpNNYZ00Fcc6T3TL4MV9A2Y&tc=l0RnCp9Z34cLGZSrOpYQG4vVAPGr7c-ckcg-lZVwJ2w&cc=OtsJySZuzJyLhKoQk9AFXlJYFjObjG_zWc4eYlYDSJw>https://code.earthengine.google.com/client-auth?scopes=https%3A//www.googleapis.com/auth/earthengine%20https%3A//www.googleapis.com/auth/devstorage.full_control&request_id=zoIB2YOEuwWWcrnbn9-yrpNNYZ00Fcc6T3TL4MV9A2Y&tc=l0RnCp9Z34cLGZSrOpYQG4vVAPGr7c-ckcg-lZVwJ2w&cc=OtsJySZuzJyLhKoQk9AFXlJYFjObjG_zWc4eYlYDSJw</a></p>\n",
       "        <p>The authorization workflow will generate a code, which you should paste in the box below.</p>\n",
       "        "
      ],
      "text/plain": [
       "<IPython.core.display.HTML object>"
      ]
     },
     "metadata": {},
     "output_type": "display_data"
    },
    {
     "name": "stdout",
     "output_type": "stream",
     "text": [
      "Enter verification code: 4/1AbUR2VN6j3h_sKh8i2HQ8l-ic-xX_vUBVqmAWaS4Dj-97EEQiUjh8YRst7k\n",
      "\n",
      "Successfully saved authorization token.\n"
     ]
    }
   ],
   "source": [
    "ee.Authenticate()\n",
    "ee.Initialize()"
   ]
  },
  {
   "cell_type": "code",
   "execution_count": 3,
   "id": "6c0ead2a",
   "metadata": {},
   "outputs": [],
   "source": [
    "ee.Initialize(opt_url='https://earthengine-highvolume.googleapis.com')"
   ]
  },
  {
   "cell_type": "code",
   "execution_count": 4,
   "id": "6ca26c91",
   "metadata": {},
   "outputs": [
    {
     "data": {
      "application/vnd.jupyter.widget-view+json": {
       "model_id": "e6f61b249b9e4dcab14f280b69a3b36a",
       "version_major": 2,
       "version_minor": 0
      },
      "text/plain": [
       "Map(center=[20, 0], controls=(WidgetControl(options=['position', 'transparent_bg'], widget=HBox(children=(Togg…"
      ]
     },
     "metadata": {},
     "output_type": "display_data"
    }
   ],
   "source": [
    "Map = geemap.Map()\n",
    "Map"
   ]
  },
  {
   "cell_type": "code",
   "execution_count": 5,
   "id": "fdefe943",
   "metadata": {},
   "outputs": [],
   "source": [
    "ds = ee.FeatureCollection(\"projects/ee-pnolaraj/assets/Ktm_Shp\")\n",
    "Map.addLayer(ds, {}, \"Kathmandu\")"
   ]
  },
  {
   "cell_type": "code",
   "execution_count": 6,
   "id": "bc360a54",
   "metadata": {},
   "outputs": [],
   "source": [
    "# Provide any string on the name for filtering\n",
    "def School_CoOrdinates(String):\n",
    "    filtered_features = ds.filter(ee.Filter.stringContains('name', String))\n",
    "\n",
    "    # Map over the filtered features to extract their coordinates\n",
    "    coordinates_list = filtered_features.geometry().coordinates()\n",
    "    \n",
    "    #Places and Co ordinates values    \n",
    "    place_names = filtered_features.aggregate_array('name').getInfo()\n",
    "    CoOrdinatesList = coordinates_list.getInfo()\n",
    "   \n",
    "    \n",
    "    #Sorting the boundary Cordinates to point\n",
    "    CoOrdinates_sorted = []\n",
    "    for i in CoOrdinatesList:\n",
    "        for j in i:\n",
    "            for k in j:\n",
    "                CoOrdinates_sorted.append([k[0], k[1]])\n",
    "                break\n",
    "            break\n",
    "            \n",
    "            \n",
    "    return [CoOrdinates_sorted, place_names]\n",
    "    \n"
   ]
  },
  {
   "cell_type": "code",
   "execution_count": 7,
   "id": "73d6c457",
   "metadata": {},
   "outputs": [],
   "source": [
    "String = \"University\"\n",
    "\n",
    "Result = School_CoOrdinates(String)\n",
    "CoOrdinate, Place_Name = Result[0], Result[1]"
   ]
  },
  {
   "cell_type": "code",
   "execution_count": 8,
   "id": "688ce492",
   "metadata": {},
   "outputs": [
    {
     "name": "stdout",
     "output_type": "stream",
     "text": [
      "[[85.29523222592344, 27.67989212374201], [85.33953343309297, 27.708711248927987], [85.28451700918667, 27.684690056435628], [85.29727901658055, 27.67843399390603], [85.2815829473634, 27.682897547392695]]\n",
      "['Tribhuwan University Office of Rector', 'Pokhara University (Kathmandu)', 'National Innovation Centre, Tribhuwan University', 'Nepal University Teachers Association', 'Tribhuvan University']\n"
     ]
    }
   ],
   "source": [
    "print(CoOrdinate)\n",
    "print(Place_Name)"
   ]
  },
  {
   "cell_type": "code",
   "execution_count": 9,
   "id": "85191f4d",
   "metadata": {},
   "outputs": [],
   "source": [
    "params = {\n",
    "    'count': 100,  # How many image chips to export\n",
    "    'buffer': 100,  # The buffer distance (m) around each point\n",
    "    'scale': 100,  # The scale to do stratified sampling\n",
    "    'seed': 1,  # A randomization seed to use for subsampling.\n",
    "    'dimensions': '256x256',  # The dimension of each image chip\n",
    "    'format': \"geojson\",  # The output image format, can be png, jpg, ZIPPED_GEO_TIFF, GEO_TIFF, NPY\n",
    "    'prefix': f'{String}_',  # The filename prefix\n",
    "    'processes': 25,  # How many processes to used for parallel processing\n",
    "    'out_dir': 'Output',  # The output directory. Default to the current working directly\n",
    "}"
   ]
  },
  {
   "cell_type": "code",
   "execution_count": null,
   "id": "3a35bf2f",
   "metadata": {},
   "outputs": [],
   "source": [
    "image = ee.FeatureCollection(\"GOOGLE/Research/open-buildings/v2/polygons\")"
   ]
  },
  {
   "cell_type": "code",
   "execution_count": 14,
   "id": "82f06a48",
   "metadata": {},
   "outputs": [],
   "source": [
    "def GEOJSON_from_Point(Point, Name):\n",
    "    image = ee.FeatureCollection(\"GOOGLE/Research/open-buildings/v2/polygons\")\n",
    "    point_geom = ee.Geometry.Point(Point[0], Point[1])\n",
    "    buffer = point_geom.buffer(buffer_radius)\n",
    "    clipped_collection = image.filterBounds(buffer)\n",
    "    download_url = clipped_collection.getDownloadURL(filetype='geojson')\n",
    "    \n",
    "    r = requests.get(download_url, stream=True)\n",
    "    if r.status_code != 200:\n",
    "        r.raise_for_status()\n",
    "    ext = params['format']\n",
    "    out_dir = os.path.abspath(params['out_dir'])\n",
    "    basename = str(Name)\n",
    "    filename = f\"{out_dir}/{params['prefix']}{basename}.{ext}\"\n",
    "    with open(filename, 'wb') as out_file:\n",
    "        shutil.copyfileobj(r.raw, out_file)\n",
    "    print(\"Done: \", basename)\n",
    "    "
   ]
  },
  {
   "cell_type": "code",
   "execution_count": null,
   "id": "ce0f6615",
   "metadata": {},
   "outputs": [
    {
     "name": "stdout",
     "output_type": "stream",
     "text": [
      "[85.29523222592344, 27.67989212374201]\n",
      "Done:  Tribhuwan University Office of Rector\n",
      "[85.33953343309297, 27.708711248927987]\n",
      "Done:  Pokhara University (Kathmandu)\n",
      "[85.28451700918667, 27.684690056435628]\n"
     ]
    }
   ],
   "source": [
    "buffer_radius = 30\n",
    "for Point, Name in zip(CoOrdinate, Place_Name):\n",
    "    print(Point)\n",
    "    GEOJSON_from_Point(Point, Name)"
   ]
  },
  {
   "cell_type": "code",
   "execution_count": null,
   "id": "12a57a40",
   "metadata": {},
   "outputs": [],
   "source": []
  }
 ],
 "metadata": {
  "kernelspec": {
   "display_name": "Python 3 (ipykernel)",
   "language": "python",
   "name": "python3"
  },
  "language_info": {
   "codemirror_mode": {
    "name": "ipython",
    "version": 3
   },
   "file_extension": ".py",
   "mimetype": "text/x-python",
   "name": "python",
   "nbconvert_exporter": "python",
   "pygments_lexer": "ipython3",
   "version": "3.10.9"
  }
 },
 "nbformat": 4,
 "nbformat_minor": 5
}
