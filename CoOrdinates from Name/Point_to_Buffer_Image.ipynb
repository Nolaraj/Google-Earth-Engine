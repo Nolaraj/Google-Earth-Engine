{
 "cells": [
  {
   "cell_type": "markdown",
   "id": "78c815ef",
   "metadata": {},
   "source": [
    "1. Initialization"
   ]
  },
  {
   "cell_type": "code",
   "execution_count": null,
   "id": "21318f2b",
   "metadata": {},
   "outputs": [],
   "source": [
    "import ee\n",
    "import geemap\n",
    "import logging\n",
    "import multiprocessing\n",
    "import os\n",
    "import requests\n",
    "import shutil\n",
    "from retry import retry"
   ]
  },
  {
   "cell_type": "code",
   "execution_count": null,
   "id": "710867f6",
   "metadata": {
    "scrolled": true
   },
   "outputs": [],
   "source": [
    "ee.Authenticate()\n",
    "ee.Initialize()"
   ]
  },
  {
   "cell_type": "code",
   "execution_count": null,
   "id": "6c0ead2a",
   "metadata": {},
   "outputs": [],
   "source": [
    "ee.Initialize(opt_url='https://earthengine-highvolume.googleapis.com')"
   ]
  },
  {
   "cell_type": "code",
   "execution_count": null,
   "id": "6ca26c91",
   "metadata": {},
   "outputs": [],
   "source": [
    "Map = geemap.Map()"
   ]
  },
  {
   "cell_type": "markdown",
   "id": "da92e450",
   "metadata": {},
   "source": [
    "2. Layer Addition (Unique for Each User if Uploaded assest is to be used)"
   ]
  },
  {
   "cell_type": "code",
   "execution_count": null,
   "id": "fdefe943",
   "metadata": {},
   "outputs": [],
   "source": [
    "ds = ee.FeatureCollection(\"projects/ee-pnolaraj/assets/Ktm_Shp\")\n",
    "Map.addLayer(ds, {}, \"Kathmandu\")"
   ]
  },
  {
   "cell_type": "markdown",
   "id": "1ce23f4a",
   "metadata": {},
   "source": [
    "3. Extraction of CoOrdinates from Matching String to Feature Name or portion of name"
   ]
  },
  {
   "cell_type": "code",
   "execution_count": null,
   "id": "bc360a54",
   "metadata": {},
   "outputs": [],
   "source": [
    "# Provide any string on the name for filtering\n",
    "def School_CoOrdinates(String):\n",
    "    filtered_features = ds.filter(ee.Filter.stringContains('name', String))\n",
    "\n",
    "    # Map over the filtered features to extract their coordinates\n",
    "    coordinates_list = filtered_features.geometry().coordinates()\n",
    "    \n",
    "    #Places and Co ordinates values    \n",
    "    place_names = filtered_features.aggregate_array('name').getInfo()\n",
    "    CoOrdinatesList = coordinates_list.getInfo()\n",
    "   \n",
    "    \n",
    "    #Sorting the boundary Cordinates to point\n",
    "    CoOrdinates_sorted = []\n",
    "    for i in CoOrdinatesList:\n",
    "        for j in i:\n",
    "            for k in j:\n",
    "                CoOrdinates_sorted.append([k[0], k[1]])\n",
    "                break\n",
    "            break\n",
    "            \n",
    "            \n",
    "    return [CoOrdinates_sorted, place_names]"
   ]
  },
  {
   "cell_type": "code",
   "execution_count": null,
   "id": "73d6c457",
   "metadata": {},
   "outputs": [],
   "source": [
    "String = \"School\"\n",
    "\n",
    "Result = School_CoOrdinates(String)\n",
    "CoOrdinate, Place_Name = Result[0], Result[1]"
   ]
  },
  {
   "cell_type": "code",
   "execution_count": null,
   "id": "688ce492",
   "metadata": {},
   "outputs": [],
   "source": [
    "print(len(Place_Name))\n",
    "print(CoOrdinate)\n",
    "print(Place_Name)"
   ]
  },
  {
   "cell_type": "markdown",
   "id": "dcb3c7ca",
   "metadata": {},
   "source": [
    "4. Adjusting Output Parameters"
   ]
  },
  {
   "cell_type": "code",
   "execution_count": null,
   "id": "e9fe4b9a",
   "metadata": {},
   "outputs": [],
   "source": [
    "params = {\n",
    "    'count': 100,  # How many image chips to export\n",
    "    'buffer': 100,  # The buffer distance (m) around each point\n",
    "    'scale': 100,  # The scale to do stratified sampling\n",
    "    'seed': 1,  # A randomization seed to use for subsampling.\n",
    "    'dimensions': '256x256',  # The dimension of each image chip\n",
    "    'format': \"geojson\",  # The output image format, can be png, jpg, ZIPPED_GEO_TIFF, GEO_TIFF, NPY\n",
    "    'prefix': f'{String}_',  # The filename prefix\n",
    "    'processes': 25,  # How many processes to used for parallel processing\n",
    "    'out_dir': 'Output',  # The output directory. Default to the current working directly\n",
    "}"
   ]
  },
  {
   "cell_type": "markdown",
   "id": "162d7035",
   "metadata": {},
   "source": [
    "5. Specifying Collection that corresponds to the output image of Interest"
   ]
  },
  {
   "cell_type": "code",
   "execution_count": null,
   "id": "abc1a504",
   "metadata": {},
   "outputs": [],
   "source": [
    "image = ee.FeatureCollection(\"GOOGLE/Research/open-buildings/v2/polygons\")"
   ]
  },
  {
   "cell_type": "markdown",
   "id": "50bcedb3",
   "metadata": {},
   "source": [
    "6. Extraction of Output"
   ]
  },
  {
   "cell_type": "code",
   "execution_count": null,
   "id": "98e6039f",
   "metadata": {},
   "outputs": [],
   "source": [
    "def GEOJSON_from_Point(Point, Name):\n",
    "    image = ee.FeatureCollection(\"GOOGLE/Research/open-buildings/v2/polygons\")\n",
    "    point_geom = ee.Geometry.Point(Point[0], Point[1])\n",
    "    buffer = point_geom.buffer(buffer_radius)\n",
    "    clipped_collection = image.filterBounds(buffer)\n",
    "    download_url = clipped_collection.getDownloadURL(filetype='geojson')\n",
    "    \n",
    "    r = requests.get(download_url, stream=True)\n",
    "    if r.status_code != 200:\n",
    "        r.raise_for_status()\n",
    "        \n",
    "        \n",
    "    ext = params['format']\n",
    "    out_dir = os.path.abspath(params['out_dir'])    \n",
    "    basename = str(Name)\n",
    "    replacements = [\",\", \"/\", \"\\\\\", \"?\", \"*\", \":\", \"<\", \">\", \"|\", '\"']\n",
    "    for character in replacements:\n",
    "        if character in basename:\n",
    "                    basename = basename.replace(character, \" \")  \n",
    "    filename = f\"{out_dir}/{params['prefix']}{basename}.{ext}\"\n",
    "                    \n",
    "                    \n",
    "    with open(filename, 'wb') as out_file:\n",
    "        shutil.copyfileobj(r.raw, out_file)\n",
    "\n",
    "    "
   ]
  },
  {
   "cell_type": "code",
   "execution_count": null,
   "id": "daaf0960",
   "metadata": {},
   "outputs": [],
   "source": [
    "Start_From = \"Gyan Bhumi Secondary School\"\n",
    "buffer_radius = 30\n",
    "\n",
    "Total_Numbers = len(Place_Name)\n",
    "i=1\n",
    "j = 1\n",
    "for Point, Name in zip(CoOrdinate, Place_Name):\n",
    "    if Name == Start_From:\n",
    "        i = 2\n",
    "        print(Name)\n",
    "    if i == 2:\n",
    "        GEOJSON_from_Point(Point, Name)\n",
    "        print(\"Done: \", str(j) + '/' + str(Total_Numbers), Name)\n",
    "    j += 1\n"
   ]
  },
  {
   "cell_type": "markdown",
   "id": "e5c75807",
   "metadata": {},
   "source": [
    "7. Writing CoOrdinates and Feature Name to text file inside Out_dir as specified above in params"
   ]
  },
  {
   "cell_type": "code",
   "execution_count": null,
   "id": "f037ab01",
   "metadata": {},
   "outputs": [],
   "source": [
    "out_dir = os.path.abspath(params['out_dir'])  \n",
    "TextFile = f\"{out_dir}/{params['prefix']}CoOrdinates.txt\"\n",
    "with open(TextFile, 'w') as f:\n",
    "    for Point, Name in zip(CoOrdinate, Place_Name):\n",
    "        f.write(str(Point[0]))\n",
    "        f.write('\\t')        \n",
    "        f.write(str(Point[1]))\n",
    "        f.write('\\t')\n",
    "        f.write(Name)\n",
    "        f.write('\\n')"
   ]
  },
  {
   "cell_type": "code",
   "execution_count": null,
   "id": "c14798c4",
   "metadata": {},
   "outputs": [],
   "source": []
  }
 ],
 "metadata": {
  "kernelspec": {
   "display_name": "Python 3 (ipykernel)",
   "language": "python",
   "name": "python3"
  },
  "language_info": {
   "codemirror_mode": {
    "name": "ipython",
    "version": 3
   },
   "file_extension": ".py",
   "mimetype": "text/x-python",
   "name": "python",
   "nbconvert_exporter": "python",
   "pygments_lexer": "ipython3",
   "version": "3.10.9"
  }
 },
 "nbformat": 4,
 "nbformat_minor": 5
}
